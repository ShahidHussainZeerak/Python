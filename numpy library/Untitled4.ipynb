{
 "cells": [
  {
   "cell_type": "code",
   "execution_count": 1,
   "id": "4f8b341c",
   "metadata": {},
   "outputs": [],
   "source": [
    "import numpy as np\n"
   ]
  },
  {
   "cell_type": "code",
   "execution_count": 2,
   "id": "e1505ad6",
   "metadata": {},
   "outputs": [],
   "source": [
    "arr=np.zeros((2,3))"
   ]
  },
  {
   "cell_type": "code",
   "execution_count": 3,
   "id": "d1a9422c",
   "metadata": {},
   "outputs": [
    {
     "data": {
      "text/plain": [
       "array([[0., 0., 0.],\n",
       "       [0., 0., 0.]])"
      ]
     },
     "execution_count": 3,
     "metadata": {},
     "output_type": "execute_result"
    }
   ],
   "source": [
    "arr"
   ]
  },
  {
   "cell_type": "code",
   "execution_count": 6,
   "id": "a7a5aae4",
   "metadata": {},
   "outputs": [],
   "source": [
    "arr=np.ones((2,2))"
   ]
  },
  {
   "cell_type": "code",
   "execution_count": 7,
   "id": "7e51bddc",
   "metadata": {},
   "outputs": [
    {
     "data": {
      "text/plain": [
       "array([[1., 1.],\n",
       "       [1., 1.]])"
      ]
     },
     "execution_count": 7,
     "metadata": {},
     "output_type": "execute_result"
    }
   ],
   "source": [
    "arr"
   ]
  },
  {
   "cell_type": "code",
   "execution_count": 9,
   "id": "6422aea1",
   "metadata": {},
   "outputs": [],
   "source": [
    "matrix=np.eye((4))"
   ]
  },
  {
   "cell_type": "code",
   "execution_count": 10,
   "id": "8828cc2a",
   "metadata": {},
   "outputs": [
    {
     "data": {
      "text/plain": [
       "array([[1., 0., 0., 0.],\n",
       "       [0., 1., 0., 0.],\n",
       "       [0., 0., 1., 0.],\n",
       "       [0., 0., 0., 1.]])"
      ]
     },
     "execution_count": 10,
     "metadata": {},
     "output_type": "execute_result"
    }
   ],
   "source": [
    "matrix"
   ]
  },
  {
   "cell_type": "markdown",
   "id": "1fd2d731",
   "metadata": {},
   "source": []
  },
  {
   "cell_type": "code",
   "execution_count": 13,
   "id": "9386237c",
   "metadata": {},
   "outputs": [],
   "source": [
    "arr=np.eye((3))"
   ]
  },
  {
   "cell_type": "code",
   "execution_count": 14,
   "id": "9d648874",
   "metadata": {},
   "outputs": [
    {
     "data": {
      "text/plain": [
       "array([[1., 0., 0.],\n",
       "       [0., 1., 0.],\n",
       "       [0., 0., 1.]])"
      ]
     },
     "execution_count": 14,
     "metadata": {},
     "output_type": "execute_result"
    }
   ],
   "source": [
    "arr"
   ]
  },
  {
   "cell_type": "code",
   "execution_count": 26,
   "id": "5434253f",
   "metadata": {},
   "outputs": [],
   "source": [
    "matrix=np.diag([3,4,5,6,7])"
   ]
  },
  {
   "cell_type": "code",
   "execution_count": 32,
   "id": "54018ef6",
   "metadata": {},
   "outputs": [
    {
     "data": {
      "text/plain": [
       "array([[3, 0, 0, 0, 0],\n",
       "       [0, 4, 0, 0, 0],\n",
       "       [0, 0, 5, 0, 0],\n",
       "       [0, 0, 0, 6, 0],\n",
       "       [0, 0, 0, 0, 7]])"
      ]
     },
     "execution_count": 32,
     "metadata": {},
     "output_type": "execute_result"
    }
   ],
   "source": [
    "matrix"
   ]
  },
  {
   "cell_type": "code",
   "execution_count": 33,
   "id": "86caa00b",
   "metadata": {},
   "outputs": [],
   "source": [
    "rand_num=np.random.randint(1,80,10)"
   ]
  },
  {
   "cell_type": "code",
   "execution_count": 34,
   "id": "372d1a1c",
   "metadata": {},
   "outputs": [
    {
     "data": {
      "text/plain": [
       "array([71,  6, 62, 12,  4, 74, 62, 28, 63, 24])"
      ]
     },
     "execution_count": 34,
     "metadata": {},
     "output_type": "execute_result"
    }
   ],
   "source": [
    "rand_num"
   ]
  },
  {
   "cell_type": "code",
   "execution_count": 37,
   "id": "aaa5a4e6",
   "metadata": {},
   "outputs": [],
   "source": [
    "rand_numb=np.random.rand(2) # this will print random numnber b/w 0 and 1"
   ]
  },
  {
   "cell_type": "code",
   "execution_count": 38,
   "id": "0aea2f72",
   "metadata": {},
   "outputs": [
    {
     "data": {
      "text/plain": [
       "array([0.83871752, 0.13516956])"
      ]
     },
     "execution_count": 38,
     "metadata": {},
     "output_type": "execute_result"
    }
   ],
   "source": [
    "rand_numb"
   ]
  },
  {
   "cell_type": "code",
   "execution_count": 43,
   "id": "936a54aa",
   "metadata": {},
   "outputs": [],
   "source": [
    "rand_num1=np.random.randn(50) # tomprint meanm of these numbers and the  mean must be near to 1."
   ]
  },
  {
   "cell_type": "code",
   "execution_count": 44,
   "id": "c8543656",
   "metadata": {
    "scrolled": true
   },
   "outputs": [
    {
     "data": {
      "text/plain": [
       "array([ 0.61740053,  0.21082779,  0.38566558,  0.16472528, -0.4656126 ,\n",
       "        0.961179  ,  0.14096772, -0.28079814, -0.09190932,  0.27964081,\n",
       "       -0.4487218 ,  0.18520372,  0.23424593,  0.7537241 , -0.21176054,\n",
       "       -0.25366451, -0.30276677,  0.41709749,  1.58190499,  0.63725399,\n",
       "        0.53478725,  0.51634266, -1.50108088,  0.20576417,  0.97066727,\n",
       "        0.85554905,  0.13756964, -1.45977264,  0.23125824, -1.17595921,\n",
       "        1.75414931,  1.39001503, -0.47363478, -0.36097198,  0.84392256,\n",
       "        0.6881178 ,  1.48155457, -0.35440537,  0.53845849, -0.31930624,\n",
       "        0.19199384, -0.52090747, -0.87759798,  1.20184341, -0.41032108,\n",
       "       -1.10503192, -0.55197233, -0.48071857, -1.484217  , -0.65535269])"
      ]
     },
     "execution_count": 44,
     "metadata": {},
     "output_type": "execute_result"
    }
   ],
   "source": [
    "rand_num1"
   ]
  },
  {
   "cell_type": "raw",
   "id": "b5171181",
   "metadata": {},
   "source": [
    "arr=np.random.randint(1,40,10)"
   ]
  },
  {
   "cell_type": "code",
   "execution_count": 54,
   "id": "7e061b30",
   "metadata": {},
   "outputs": [
    {
     "data": {
      "text/plain": [
       "array([[1., 0., 0.],\n",
       "       [0., 1., 0.],\n",
       "       [0., 0., 1.]])"
      ]
     },
     "execution_count": 54,
     "metadata": {},
     "output_type": "execute_result"
    }
   ],
   "source": [
    "arr"
   ]
  },
  {
   "cell_type": "code",
   "execution_count": 59,
   "id": "4292424c",
   "metadata": {},
   "outputs": [
    {
     "data": {
      "text/plain": [
       "array([[1., 0., 0.],\n",
       "       [0., 1., 0.],\n",
       "       [0., 0., 1.]])"
      ]
     },
     "execution_count": 59,
     "metadata": {},
     "output_type": "execute_result"
    }
   ],
   "source": [
    "arr.reshape(3,3)"
   ]
  },
  {
   "cell_type": "code",
   "execution_count": 60,
   "id": "bc990135",
   "metadata": {},
   "outputs": [],
   "source": [
    "ar=np.random.randint(10,100,25)"
   ]
  },
  {
   "cell_type": "code",
   "execution_count": 61,
   "id": "5e6dc1b2",
   "metadata": {},
   "outputs": [
    {
     "data": {
      "text/plain": [
       "array([94, 92, 20, 60, 38, 32, 43, 46, 59, 72, 18, 87, 74, 10, 37, 72, 16,\n",
       "       13, 92, 48, 21, 94, 52, 51, 92])"
      ]
     },
     "execution_count": 61,
     "metadata": {},
     "output_type": "execute_result"
    }
   ],
   "source": [
    "ar"
   ]
  },
  {
   "cell_type": "code",
   "execution_count": 62,
   "id": "0e50a32f",
   "metadata": {},
   "outputs": [
    {
     "data": {
      "text/plain": [
       "array([[94, 92, 20, 60, 38],\n",
       "       [32, 43, 46, 59, 72],\n",
       "       [18, 87, 74, 10, 37],\n",
       "       [72, 16, 13, 92, 48],\n",
       "       [21, 94, 52, 51, 92]])"
      ]
     },
     "execution_count": 62,
     "metadata": {},
     "output_type": "execute_result"
    }
   ],
   "source": [
    "ar.reshape(5,5) # 2d array"
   ]
  },
  {
   "cell_type": "code",
   "execution_count": 67,
   "id": "03009f2e",
   "metadata": {},
   "outputs": [],
   "source": [
    "ar1=np.random.randint(10,100,24)"
   ]
  },
  {
   "cell_type": "code",
   "execution_count": 68,
   "id": "caaad165",
   "metadata": {},
   "outputs": [
    {
     "data": {
      "text/plain": [
       "array([46, 74, 93, 84, 69, 61, 75, 60, 14, 71, 80, 93, 54, 10, 62, 23, 15,\n",
       "       65, 58, 56, 79, 55, 98, 28])"
      ]
     },
     "execution_count": 68,
     "metadata": {},
     "output_type": "execute_result"
    }
   ],
   "source": [
    "ar1"
   ]
  },
  {
   "cell_type": "code",
   "execution_count": 70,
   "id": "1dae8d3d",
   "metadata": {},
   "outputs": [
    {
     "data": {
      "text/plain": [
       "array([[[46, 74, 93, 84, 69, 61],\n",
       "        [75, 60, 14, 71, 80, 93]],\n",
       "\n",
       "       [[54, 10, 62, 23, 15, 65],\n",
       "        [58, 56, 79, 55, 98, 28]]])"
      ]
     },
     "execution_count": 70,
     "metadata": {},
     "output_type": "execute_result"
    }
   ],
   "source": [
    "ar1.reshape(2,2,6)"
   ]
  },
  {
   "cell_type": "code",
   "execution_count": 74,
   "id": "6ae5e51d",
   "metadata": {},
   "outputs": [],
   "source": [
    "arr1=np.random.randint(10,50,16)"
   ]
  },
  {
   "cell_type": "raw",
   "id": "d72cd9b6",
   "metadata": {},
   "source": [
    "arr1"
   ]
  }
 ],
 "metadata": {
  "kernelspec": {
   "display_name": "Python 3 (ipykernel)",
   "language": "python",
   "name": "python3"
  },
  "language_info": {
   "codemirror_mode": {
    "name": "ipython",
    "version": 3
   },
   "file_extension": ".py",
   "mimetype": "text/x-python",
   "name": "python",
   "nbconvert_exporter": "python",
   "pygments_lexer": "ipython3",
   "version": "3.9.7"
  }
 },
 "nbformat": 4,
 "nbformat_minor": 5
}
