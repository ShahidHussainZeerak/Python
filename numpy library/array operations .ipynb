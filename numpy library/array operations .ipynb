{
 "cells": [
  {
   "cell_type": "code",
   "execution_count": 1,
   "id": "12375374",
   "metadata": {},
   "outputs": [],
   "source": [
    "import numpy as np"
   ]
  },
  {
   "cell_type": "code",
   "execution_count": 8,
   "id": "2401d34a",
   "metadata": {},
   "outputs": [],
   "source": [
    "arr=np.array([2,3,4,5])"
   ]
  },
  {
   "cell_type": "code",
   "execution_count": 9,
   "id": "cecfcc5b",
   "metadata": {},
   "outputs": [
    {
     "data": {
      "text/plain": [
       "array([ 4,  6,  8, 10])"
      ]
     },
     "execution_count": 9,
     "metadata": {},
     "output_type": "execute_result"
    }
   ],
   "source": [
    "arr*2"
   ]
  },
  {
   "cell_type": "code",
   "execution_count": 10,
   "id": "4cc9a9a3",
   "metadata": {},
   "outputs": [
    {
     "data": {
      "text/plain": [
       "array([ 9, 14, 21, 30], dtype=int32)"
      ]
     },
     "execution_count": 10,
     "metadata": {},
     "output_type": "execute_result"
    }
   ],
   "source": [
    "arr**2+5"
   ]
  },
  {
   "cell_type": "code",
   "execution_count": 11,
   "id": "1a396517",
   "metadata": {},
   "outputs": [
    {
     "data": {
      "text/plain": [
       "array([1. , 1.5, 2. , 2.5])"
      ]
     },
     "execution_count": 11,
     "metadata": {},
     "output_type": "execute_result"
    }
   ],
   "source": [
    "arr/2"
   ]
  },
  {
   "cell_type": "code",
   "execution_count": 12,
   "id": "2c850f23",
   "metadata": {},
   "outputs": [
    {
     "name": "stderr",
     "output_type": "stream",
     "text": [
      "C:\\Users\\ZEERAK~1\\AppData\\Local\\Temp/ipykernel_2104/4291252909.py:1: RuntimeWarning: divide by zero encountered in true_divide\n",
      "  arr/0\n"
     ]
    },
    {
     "data": {
      "text/plain": [
       "array([inf, inf, inf, inf])"
      ]
     },
     "execution_count": 12,
     "metadata": {},
     "output_type": "execute_result"
    }
   ],
   "source": [
    "arr/0  # this will give infinity not error"
   ]
  },
  {
   "cell_type": "code",
   "execution_count": 13,
   "id": "b66308b8",
   "metadata": {},
   "outputs": [
    {
     "data": {
      "text/plain": [
       "array([2, 3, 4, 5])"
      ]
     },
     "execution_count": 13,
     "metadata": {},
     "output_type": "execute_result"
    }
   ],
   "source": [
    "arr"
   ]
  },
  {
   "cell_type": "code",
   "execution_count": 14,
   "id": "a8e45db7",
   "metadata": {},
   "outputs": [],
   "source": [
    "# operations on two or more array."
   ]
  },
  {
   "cell_type": "code",
   "execution_count": 16,
   "id": "fb639acf",
   "metadata": {},
   "outputs": [],
   "source": [
    "import numpy as np"
   ]
  },
  {
   "cell_type": "code",
   "execution_count": 17,
   "id": "2878a371",
   "metadata": {},
   "outputs": [],
   "source": [
    "ar1=np.array([5,10,15,20])\n",
    "ar2=np.array([1,2,3,4])\n",
    "ar3=np.array([5,6,7,8])"
   ]
  },
  {
   "cell_type": "code",
   "execution_count": 18,
   "id": "f30efef0",
   "metadata": {},
   "outputs": [
    {
     "data": {
      "text/plain": [
       "array([11, 18, 25, 32])"
      ]
     },
     "execution_count": 18,
     "metadata": {},
     "output_type": "execute_result"
    }
   ],
   "source": [
    "ar1+ar2+ar3\n"
   ]
  },
  {
   "cell_type": "code",
   "execution_count": 19,
   "id": "89258d37",
   "metadata": {},
   "outputs": [
    {
     "data": {
      "text/plain": [
       "array([10, 26, 52, 88])"
      ]
     },
     "execution_count": 19,
     "metadata": {},
     "output_type": "execute_result"
    }
   ],
   "source": [
    "ar1*ar2+ar3"
   ]
  },
  {
   "cell_type": "code",
   "execution_count": 20,
   "id": "cccb49b0",
   "metadata": {},
   "outputs": [
    {
     "data": {
      "text/plain": [
       "array([ -19,  -48,  -87, -136])"
      ]
     },
     "execution_count": 20,
     "metadata": {},
     "output_type": "execute_result"
    }
   ],
   "source": [
    "ar1+ar2-ar3*ar1"
   ]
  },
  {
   "cell_type": "code",
   "execution_count": 23,
   "id": "0e1060b3",
   "metadata": {},
   "outputs": [
    {
     "data": {
      "text/plain": [
       "array([10., 11., 12., 13.])"
      ]
     },
     "execution_count": 23,
     "metadata": {},
     "output_type": "execute_result"
    }
   ],
   "source": [
    "ar1/ar2+ar3"
   ]
  },
  {
   "cell_type": "code",
   "execution_count": 24,
   "id": "1f599071",
   "metadata": {},
   "outputs": [],
   "source": [
    "# now we can perform operation on matrix"
   ]
  },
  {
   "cell_type": "code",
   "execution_count": 25,
   "id": "6fbf292b",
   "metadata": {},
   "outputs": [],
   "source": [
    "np.random.seed(123)\n",
    "matrix1=np.random.randint(1,11,9).reshape(3,3)\n",
    "matrix2=np.random.randint(12,23,9).reshape(3,3)"
   ]
  },
  {
   "cell_type": "code",
   "execution_count": 26,
   "id": "ed0b193a",
   "metadata": {},
   "outputs": [
    {
     "data": {
      "text/plain": [
       "array([[ 3,  3,  7],\n",
       "       [ 2,  4, 10],\n",
       "       [ 7,  2,  1]])"
      ]
     },
     "execution_count": 26,
     "metadata": {},
     "output_type": "execute_result"
    }
   ],
   "source": [
    "matrix1"
   ]
  },
  {
   "cell_type": "code",
   "execution_count": 27,
   "id": "bb426b08",
   "metadata": {},
   "outputs": [
    {
     "data": {
      "text/plain": [
       "array([[13, 21, 12],\n",
       "       [12, 21, 15],\n",
       "       [16, 12, 12]])"
      ]
     },
     "execution_count": 27,
     "metadata": {},
     "output_type": "execute_result"
    }
   ],
   "source": [
    "matrix2"
   ]
  },
  {
   "cell_type": "code",
   "execution_count": 28,
   "id": "d0b84954",
   "metadata": {},
   "outputs": [
    {
     "data": {
      "text/plain": [
       "array([[ 39,  63,  84],\n",
       "       [ 24,  84, 150],\n",
       "       [112,  24,  12]])"
      ]
     },
     "execution_count": 28,
     "metadata": {},
     "output_type": "execute_result"
    }
   ],
   "source": [
    "matrix1*matrix2 # simple product"
   ]
  },
  {
   "cell_type": "code",
   "execution_count": 29,
   "id": "4459ff5c",
   "metadata": {},
   "outputs": [
    {
     "data": {
      "text/plain": [
       "array([[    1594323,  1870418611,   956385313],\n",
       "       [       4096,           0, -1530494976],\n",
       "       [-1526366847,        4096,           1]], dtype=int32)"
      ]
     },
     "execution_count": 29,
     "metadata": {},
     "output_type": "execute_result"
    }
   ],
   "source": [
    "matrix1**matrix2"
   ]
  },
  {
   "cell_type": "code",
   "execution_count": 31,
   "id": "5dea1726",
   "metadata": {},
   "outputs": [
    {
     "data": {
      "text/plain": [
       "array([[10, 18,  5],\n",
       "       [10, 17,  5],\n",
       "       [ 9, 10, 11]])"
      ]
     },
     "execution_count": 31,
     "metadata": {},
     "output_type": "execute_result"
    }
   ],
   "source": [
    "matrix2-matrix1"
   ]
  },
  {
   "cell_type": "code",
   "execution_count": 32,
   "id": "82cbbe17",
   "metadata": {},
   "outputs": [
    {
     "data": {
      "text/plain": [
       "array([[ 4.33333333,  7.        ,  1.71428571],\n",
       "       [ 6.        ,  5.25      ,  1.5       ],\n",
       "       [ 2.28571429,  6.        , 12.        ]])"
      ]
     },
     "execution_count": 32,
     "metadata": {},
     "output_type": "execute_result"
    }
   ],
   "source": [
    "matrix2/matrix1\n"
   ]
  },
  {
   "cell_type": "code",
   "execution_count": 33,
   "id": "7350b289",
   "metadata": {},
   "outputs": [
    {
     "data": {
      "text/plain": [
       "array([[187, 210, 165],\n",
       "       [234, 246, 204],\n",
       "       [131, 201, 126]])"
      ]
     },
     "execution_count": 33,
     "metadata": {},
     "output_type": "execute_result"
    }
   ],
   "source": [
    "matrix1.dot(matrix2) # ist row .ist column+ist row.second column etc...."
   ]
  },
  {
   "cell_type": "code",
   "execution_count": null,
   "id": "132f0040",
   "metadata": {},
   "outputs": [],
   "source": []
  }
 ],
 "metadata": {
  "kernelspec": {
   "display_name": "Python 3 (ipykernel)",
   "language": "python",
   "name": "python3"
  },
  "language_info": {
   "codemirror_mode": {
    "name": "ipython",
    "version": 3
   },
   "file_extension": ".py",
   "mimetype": "text/x-python",
   "name": "python",
   "nbconvert_exporter": "python",
   "pygments_lexer": "ipython3",
   "version": "3.9.7"
  }
 },
 "nbformat": 4,
 "nbformat_minor": 5
}
