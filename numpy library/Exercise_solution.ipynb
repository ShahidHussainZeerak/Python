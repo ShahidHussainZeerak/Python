{
 "cells": [
  {
   "cell_type": "code",
   "execution_count": 27,
   "id": "0e3362bb",
   "metadata": {},
   "outputs": [],
   "source": [
    "import numpy as np"
   ]
  },
  {
   "cell_type": "code",
   "execution_count": 28,
   "id": "87c843d6",
   "metadata": {},
   "outputs": [],
   "source": [
    "arr=np.array([1,2,3,4,5,6])"
   ]
  },
  {
   "cell_type": "code",
   "execution_count": 29,
   "id": "dcc683d8",
   "metadata": {},
   "outputs": [
    {
     "data": {
      "text/plain": [
       "array([1, 2, 3, 4, 5, 6])"
      ]
     },
     "execution_count": 29,
     "metadata": {},
     "output_type": "execute_result"
    }
   ],
   "source": [
    "arr"
   ]
  },
  {
   "cell_type": "code",
   "execution_count": 31,
   "id": "41515d31",
   "metadata": {},
   "outputs": [],
   "source": [
    "arr1=np.arange(20,41)"
   ]
  },
  {
   "cell_type": "code",
   "execution_count": 32,
   "id": "ddf2485b",
   "metadata": {},
   "outputs": [
    {
     "data": {
      "text/plain": [
       "array([20, 21, 22, 23, 24, 25, 26, 27, 28, 29, 30, 31, 32, 33, 34, 35, 36,\n",
       "       37, 38, 39, 40])"
      ]
     },
     "execution_count": 32,
     "metadata": {},
     "output_type": "execute_result"
    }
   ],
   "source": [
    "arr1"
   ]
  },
  {
   "cell_type": "code",
   "execution_count": 35,
   "id": "6c660f98",
   "metadata": {},
   "outputs": [],
   "source": [
    "fives=np.ones(10)*5"
   ]
  },
  {
   "cell_type": "code",
   "execution_count": 36,
   "id": "1b829f16",
   "metadata": {},
   "outputs": [
    {
     "data": {
      "text/plain": [
       "array([5., 5., 5., 5., 5., 5., 5., 5., 5., 5.])"
      ]
     },
     "execution_count": 36,
     "metadata": {},
     "output_type": "execute_result"
    }
   ],
   "source": [
    "fives"
   ]
  },
  {
   "cell_type": "code",
   "execution_count": 39,
   "id": "f12cfa04",
   "metadata": {},
   "outputs": [],
   "source": [
    "arr2=np.random.randint(1,50,24).reshape(3,4,2)"
   ]
  },
  {
   "cell_type": "code",
   "execution_count": 40,
   "id": "ac38e96b",
   "metadata": {},
   "outputs": [
    {
     "data": {
      "text/plain": [
       "array([[[18,  3],\n",
       "        [48, 49],\n",
       "        [ 3,  2],\n",
       "        [49, 36]],\n",
       "\n",
       "       [[21, 37],\n",
       "        [ 7, 24],\n",
       "        [23,  4],\n",
       "        [46,  2]],\n",
       "\n",
       "       [[42, 44],\n",
       "        [ 1, 22],\n",
       "        [47, 35],\n",
       "        [42, 13]]])"
      ]
     },
     "execution_count": 40,
     "metadata": {},
     "output_type": "execute_result"
    }
   ],
   "source": [
    "arr2"
   ]
  },
  {
   "cell_type": "code",
   "execution_count": 42,
   "id": "fbd0a89d",
   "metadata": {},
   "outputs": [],
   "source": [
    "arr3=np.random.rand(4,5)"
   ]
  },
  {
   "cell_type": "code",
   "execution_count": 52,
   "id": "4ff68a46",
   "metadata": {},
   "outputs": [
    {
     "data": {
      "text/plain": [
       "array([[0.96807003, 0.06796204, 0.87858809, 0.78410735, 0.41062011],\n",
       "       [0.17305671, 0.74197864, 0.73492002, 0.66371046, 0.31202094],\n",
       "       [0.45441383, 0.01231275, 0.33792398, 0.48750261, 0.25769174],\n",
       "       [0.56342572, 0.26771345, 0.6480807 , 0.5793309 , 0.86396581]])"
      ]
     },
     "execution_count": 52,
     "metadata": {},
     "output_type": "execute_result"
    }
   ],
   "source": [
    "arr3"
   ]
  },
  {
   "cell_type": "code",
   "execution_count": 58,
   "id": "120c8782",
   "metadata": {},
   "outputs": [
    {
     "data": {
      "text/plain": [
       "array([-1,  3, 29, 35, 39, -1, -1, 43, 23, -1, 33, -1, -1, 33, 47, 33, -1,\n",
       "       -1, -1, 15])"
      ]
     },
     "execution_count": 58,
     "metadata": {},
     "output_type": "execute_result"
    }
   ],
   "source": [
    "np.random.seed(123)\n",
    "arr4=np.random.randint(1,50,20)\n",
    "arr4[arr4%2==0]=-1\n",
    "arr4"
   ]
  },
  {
   "cell_type": "code",
   "execution_count": 59,
   "id": "0f2264ae",
   "metadata": {},
   "outputs": [
    {
     "data": {
      "text/plain": [
       "array([[  5,  10,  15,  20,  25],\n",
       "       [ 30,  35,  40,  45,  50],\n",
       "       [ 55,  60,  65,  70,  75],\n",
       "       [ 80,  85,  90,  95, 100]])"
      ]
     },
     "execution_count": 59,
     "metadata": {},
     "output_type": "execute_result"
    }
   ],
   "source": [
    "matrix=np.array([[5,10,15,20,25],\n",
    "                [30,35,40,45,50],\n",
    "                [55,60,65,70,75],\n",
    "                [80,85,90,95,100]] )\n",
    "matrix"
   ]
  },
  {
   "cell_type": "code",
   "execution_count": 66,
   "id": "2c7ec03c",
   "metadata": {},
   "outputs": [
    {
     "data": {
      "text/plain": [
       "array([[30, 35, 40],\n",
       "       [55, 60, 65]])"
      ]
     },
     "execution_count": 66,
     "metadata": {},
     "output_type": "execute_result"
    }
   ],
   "source": [
    "matrix[1:3 ,0:3]"
   ]
  },
  {
   "cell_type": "code",
   "execution_count": 67,
   "id": "8796caa4",
   "metadata": {},
   "outputs": [
    {
     "data": {
      "text/plain": [
       "array([1, 2, 3, 4, 5, 6, 7, 8])"
      ]
     },
     "execution_count": 67,
     "metadata": {},
     "output_type": "execute_result"
    }
   ],
   "source": [
    "arr5=np.array([1,2,3,4])\n",
    "arr6=np.array([5,6,7,8])\n",
    "np.hstack((arr5,arr6))"
   ]
  },
  {
   "cell_type": "code",
   "execution_count": 69,
   "id": "7c047ad0",
   "metadata": {},
   "outputs": [
    {
     "data": {
      "text/plain": [
       "array([[1, 2, 3, 4],\n",
       "       [5, 6, 7, 8]])"
      ]
     },
     "execution_count": 69,
     "metadata": {},
     "output_type": "execute_result"
    }
   ],
   "source": [
    "np.vstack((arr5,arr6))"
   ]
  },
  {
   "cell_type": "code",
   "execution_count": 71,
   "id": "fcee21b2",
   "metadata": {},
   "outputs": [
    {
     "data": {
      "text/plain": [
       "array([[13,  9,  4],\n",
       "       [11,  6,  1],\n",
       "       [12,  3, 27]])"
      ]
     },
     "execution_count": 71,
     "metadata": {},
     "output_type": "execute_result"
    }
   ],
   "source": [
    "matrix1=np.random.randint(1,30,9).reshape(3,3)\n",
    "matrix2=np.random.randint(15,35,9).reshape(3,3)\n",
    "matrix1"
   ]
  },
  {
   "cell_type": "code",
   "execution_count": 72,
   "id": "0a6b7450",
   "metadata": {},
   "outputs": [
    {
     "data": {
      "text/plain": [
       "array([[25, 28, 33],\n",
       "       [19, 30, 26],\n",
       "       [27, 21, 28]])"
      ]
     },
     "execution_count": 72,
     "metadata": {},
     "output_type": "execute_result"
    }
   ],
   "source": [
    "matrix2"
   ]
  },
  {
   "cell_type": "code",
   "execution_count": 73,
   "id": "250b1fab",
   "metadata": {},
   "outputs": [
    {
     "data": {
      "text/plain": [
       "array([[13,  9,  4, 25, 28, 33],\n",
       "       [11,  6,  1, 19, 30, 26],\n",
       "       [12,  3, 27, 27, 21, 28]])"
      ]
     },
     "execution_count": 73,
     "metadata": {},
     "output_type": "execute_result"
    }
   ],
   "source": [
    "np.hstack((matrix1,matrix2))"
   ]
  },
  {
   "cell_type": "code",
   "execution_count": 74,
   "id": "72b617c5",
   "metadata": {},
   "outputs": [
    {
     "data": {
      "text/plain": [
       "array([[13,  9,  4],\n",
       "       [11,  6,  1],\n",
       "       [12,  3, 27],\n",
       "       [25, 28, 33],\n",
       "       [19, 30, 26],\n",
       "       [27, 21, 28]])"
      ]
     },
     "execution_count": 74,
     "metadata": {},
     "output_type": "execute_result"
    }
   ],
   "source": [
    "np.vstack((matrix1,matrix2))"
   ]
  },
  {
   "cell_type": "code",
   "execution_count": null,
   "id": "82996802",
   "metadata": {},
   "outputs": [],
   "source": []
  }
 ],
 "metadata": {
  "kernelspec": {
   "display_name": "Python 3 (ipykernel)",
   "language": "python",
   "name": "python3"
  },
  "language_info": {
   "codemirror_mode": {
    "name": "ipython",
    "version": 3
   },
   "file_extension": ".py",
   "mimetype": "text/x-python",
   "name": "python",
   "nbconvert_exporter": "python",
   "pygments_lexer": "ipython3",
   "version": "3.9.7"
  }
 },
 "nbformat": 4,
 "nbformat_minor": 5
}
