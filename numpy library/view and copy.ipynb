{
 "cells": [
  {
   "cell_type": "code",
   "execution_count": 1,
   "id": "7eaa7f21",
   "metadata": {},
   "outputs": [],
   "source": [
    "import numpy as np"
   ]
  },
  {
   "cell_type": "code",
   "execution_count": 2,
   "id": "84750239",
   "metadata": {},
   "outputs": [],
   "source": [
    "arr=np.array([1,2,4,3,5,5])"
   ]
  },
  {
   "cell_type": "code",
   "execution_count": 33,
   "id": "d5dd7b17",
   "metadata": {},
   "outputs": [],
   "source": [
    "sliced_array=arr[0:5]"
   ]
  },
  {
   "cell_type": "code",
   "execution_count": 34,
   "id": "d8f06e14",
   "metadata": {},
   "outputs": [
    {
     "data": {
      "text/plain": [
       "array([0, 0, 0, 0, 0])"
      ]
     },
     "execution_count": 34,
     "metadata": {},
     "output_type": "execute_result"
    }
   ],
   "source": [
    "sliced_array"
   ]
  },
  {
   "cell_type": "code",
   "execution_count": 17,
   "id": "0ef2bffd",
   "metadata": {},
   "outputs": [],
   "source": [
    "sliced_array[:]=0"
   ]
  },
  {
   "cell_type": "code",
   "execution_count": 18,
   "id": "66b1f6f9",
   "metadata": {},
   "outputs": [
    {
     "data": {
      "text/plain": [
       "array([0, 0, 0, 0, 0])"
      ]
     },
     "execution_count": 18,
     "metadata": {},
     "output_type": "execute_result"
    }
   ],
   "source": [
    "sliced_array"
   ]
  },
  {
   "cell_type": "code",
   "execution_count": 20,
   "id": "8cd60f50",
   "metadata": {},
   "outputs": [
    {
     "data": {
      "text/plain": [
       "array([0, 0, 0, 0, 0, 5])"
      ]
     },
     "execution_count": 20,
     "metadata": {},
     "output_type": "execute_result"
    }
   ],
   "source": [
    "arr"
   ]
  },
  {
   "cell_type": "code",
   "execution_count": 23,
   "id": "3cc13e93",
   "metadata": {},
   "outputs": [],
   "source": [
    "sliced_array[0:5]=[1,2,4,3,5]"
   ]
  },
  {
   "cell_type": "code",
   "execution_count": 24,
   "id": "76fd2c68",
   "metadata": {},
   "outputs": [
    {
     "data": {
      "text/plain": [
       "array([1, 2, 4, 3, 5])"
      ]
     },
     "execution_count": 24,
     "metadata": {},
     "output_type": "execute_result"
    }
   ],
   "source": [
    "sliced_array"
   ]
  },
  {
   "cell_type": "code",
   "execution_count": 31,
   "id": "9ba47d4c",
   "metadata": {},
   "outputs": [],
   "source": [
    "sliced_array1=arr[0:5].copy() # to copy element from the array"
   ]
  },
  {
   "cell_type": "code",
   "execution_count": 32,
   "id": "ccac03ee",
   "metadata": {},
   "outputs": [
    {
     "data": {
      "text/plain": [
       "array([0, 0, 0, 0, 0])"
      ]
     },
     "execution_count": 32,
     "metadata": {},
     "output_type": "execute_result"
    }
   ],
   "source": [
    "sliced_array1"
   ]
  },
  {
   "cell_type": "code",
   "execution_count": null,
   "id": "15c0a2c0",
   "metadata": {},
   "outputs": [],
   "source": []
  }
 ],
 "metadata": {
  "kernelspec": {
   "display_name": "Python 3 (ipykernel)",
   "language": "python",
   "name": "python3"
  },
  "language_info": {
   "codemirror_mode": {
    "name": "ipython",
    "version": 3
   },
   "file_extension": ".py",
   "mimetype": "text/x-python",
   "name": "python",
   "nbconvert_exporter": "python",
   "pygments_lexer": "ipython3",
   "version": "3.9.7"
  }
 },
 "nbformat": 4,
 "nbformat_minor": 5
}
