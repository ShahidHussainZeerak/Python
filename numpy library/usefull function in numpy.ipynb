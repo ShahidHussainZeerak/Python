{
 "cells": [
  {
   "cell_type": "code",
   "execution_count": 1,
   "id": "4bccb05f",
   "metadata": {},
   "outputs": [],
   "source": [
    "import numpy as np"
   ]
  },
  {
   "cell_type": "code",
   "execution_count": 2,
   "id": "08c0c6e5",
   "metadata": {},
   "outputs": [],
   "source": [
    "arr=np.array([2,80,5,7,90,4])"
   ]
  },
  {
   "cell_type": "code",
   "execution_count": 3,
   "id": "2175ac0e",
   "metadata": {},
   "outputs": [
    {
     "data": {
      "text/plain": [
       "array([ 2, 80,  5,  7, 90,  4])"
      ]
     },
     "execution_count": 3,
     "metadata": {},
     "output_type": "execute_result"
    }
   ],
   "source": [
    "arr"
   ]
  },
  {
   "cell_type": "code",
   "execution_count": 4,
   "id": "683e15a0",
   "metadata": {},
   "outputs": [
    {
     "data": {
      "text/plain": [
       "2"
      ]
     },
     "execution_count": 4,
     "metadata": {},
     "output_type": "execute_result"
    }
   ],
   "source": [
    "np.min(arr)  # print minimum element in array"
   ]
  },
  {
   "cell_type": "code",
   "execution_count": 5,
   "id": "9f56511b",
   "metadata": {},
   "outputs": [
    {
     "data": {
      "text/plain": [
       "90"
      ]
     },
     "execution_count": 5,
     "metadata": {},
     "output_type": "execute_result"
    }
   ],
   "source": [
    "np.max(arr) # show maximum element of array"
   ]
  },
  {
   "cell_type": "code",
   "execution_count": 6,
   "id": "61143b18",
   "metadata": {},
   "outputs": [
    {
     "data": {
      "text/plain": [
       "0"
      ]
     },
     "execution_count": 6,
     "metadata": {},
     "output_type": "execute_result"
    }
   ],
   "source": [
    "np.argmin(arr) # show position of min element"
   ]
  },
  {
   "cell_type": "code",
   "execution_count": 8,
   "id": "fd9bd038",
   "metadata": {},
   "outputs": [
    {
     "data": {
      "text/plain": [
       "4"
      ]
     },
     "execution_count": 8,
     "metadata": {},
     "output_type": "execute_result"
    }
   ],
   "source": [
    "np.argmax(arr)# show position of max element"
   ]
  },
  {
   "cell_type": "code",
   "execution_count": 9,
   "id": "f38718ec",
   "metadata": {},
   "outputs": [
    {
     "data": {
      "text/plain": [
       "188"
      ]
     },
     "execution_count": 9,
     "metadata": {},
     "output_type": "execute_result"
    }
   ],
   "source": [
    "np.sum(arr) # print sum of the All element of the array."
   ]
  },
  {
   "cell_type": "code",
   "execution_count": 10,
   "id": "fb6effcd",
   "metadata": {},
   "outputs": [
    {
     "data": {
      "text/plain": [
       "array([1.41421356, 8.94427191, 2.23606798, 2.64575131, 9.48683298,\n",
       "       2.        ])"
      ]
     },
     "execution_count": 10,
     "metadata": {},
     "output_type": "execute_result"
    }
   ],
   "source": [
    "np.sqrt(arr) # print square root of the all element "
   ]
  },
  {
   "cell_type": "code",
   "execution_count": 11,
   "id": "8cb398bd",
   "metadata": {},
   "outputs": [
    {
     "data": {
      "text/plain": [
       "array([ 0.90929743, -0.99388865, -0.95892427,  0.6569866 ,  0.89399666,\n",
       "       -0.7568025 ])"
      ]
     },
     "execution_count": 11,
     "metadata": {},
     "output_type": "execute_result"
    }
   ],
   "source": [
    "np.sin(arr) # value of sin"
   ]
  },
  {
   "cell_type": "code",
   "execution_count": 12,
   "id": "fa12699c",
   "metadata": {},
   "outputs": [
    {
     "data": {
      "text/plain": [
       "array([-0.41614684, -0.11038724,  0.28366219,  0.75390225, -0.44807362,\n",
       "       -0.65364362])"
      ]
     },
     "execution_count": 12,
     "metadata": {},
     "output_type": "execute_result"
    }
   ],
   "source": [
    "np.cos(arr)# value of cos"
   ]
  },
  {
   "cell_type": "code",
   "execution_count": 13,
   "id": "9156e2f2",
   "metadata": {},
   "outputs": [
    {
     "data": {
      "text/plain": [
       "array([7.38905610e+00, 5.54062238e+34, 1.48413159e+02, 1.09663316e+03,\n",
       "       1.22040329e+39, 5.45981500e+01])"
      ]
     },
     "execution_count": 13,
     "metadata": {},
     "output_type": "execute_result"
    }
   ],
   "source": [
    "np.exp(arr)"
   ]
  },
  {
   "cell_type": "code",
   "execution_count": 17,
   "id": "e439e92a",
   "metadata": {},
   "outputs": [],
   "source": [
    "arr1=np.array([1,1,0,1,0,1,1,0],dtype='bool') # to print boolen value insted of 1 and 0"
   ]
  },
  {
   "cell_type": "code",
   "execution_count": 18,
   "id": "eda32565",
   "metadata": {},
   "outputs": [
    {
     "data": {
      "text/plain": [
       "array([ True,  True, False,  True, False,  True,  True, False])"
      ]
     },
     "execution_count": 18,
     "metadata": {},
     "output_type": "execute_result"
    }
   ],
   "source": [
    "arr1"
   ]
  },
  {
   "cell_type": "code",
   "execution_count": 21,
   "id": "eb0d18a0",
   "metadata": {},
   "outputs": [
    {
     "name": "stdout",
     "output_type": "stream",
     "text": [
      "True True False True False True True False "
     ]
    }
   ],
   "source": [
    "for i in arr1:\n",
    "    print(i,end=' ')  # use to itterate the all element of the second array."
   ]
  },
  {
   "cell_type": "code",
   "execution_count": 22,
   "id": "bdc694a2",
   "metadata": {},
   "outputs": [
    {
     "data": {
      "text/plain": [
       "array([ 1.  ,  2.25,  3.5 ,  4.75,  6.  ,  7.25,  8.5 ,  9.75, 11.  ])"
      ]
     },
     "execution_count": 22,
     "metadata": {},
     "output_type": "execute_result"
    }
   ],
   "source": [
    "np.linspace(1,11,9)"
   ]
  },
  {
   "cell_type": "code",
   "execution_count": null,
   "id": "e31dcdbe",
   "metadata": {},
   "outputs": [],
   "source": []
  }
 ],
 "metadata": {
  "kernelspec": {
   "display_name": "Python 3 (ipykernel)",
   "language": "python",
   "name": "python3"
  },
  "language_info": {
   "codemirror_mode": {
    "name": "ipython",
    "version": 3
   },
   "file_extension": ".py",
   "mimetype": "text/x-python",
   "name": "python",
   "nbconvert_exporter": "python",
   "pygments_lexer": "ipython3",
   "version": "3.9.7"
  }
 },
 "nbformat": 4,
 "nbformat_minor": 5
}
