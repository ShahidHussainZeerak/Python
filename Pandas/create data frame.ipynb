{
 "cells": [
  {
   "cell_type": "code",
   "execution_count": 1,
   "id": "8cd5a642",
   "metadata": {},
   "outputs": [],
   "source": [
    "import pandas as pd"
   ]
  },
  {
   "cell_type": "code",
   "execution_count": 2,
   "id": "65591602",
   "metadata": {},
   "outputs": [],
   "source": [
    "# when data is arrange in columns."
   ]
  },
  {
   "cell_type": "code",
   "execution_count": 3,
   "id": "97cd6460",
   "metadata": {},
   "outputs": [],
   "source": [
    "names=['Shahid',\"Hussain\",'Zeerak']\n",
    "hobbies=['coding','pc games','pc games']\n",
    "height=['175cm','172cm','173cm']"
   ]
  },
  {
   "cell_type": "code",
   "execution_count": 7,
   "id": "d1c63b0d",
   "metadata": {},
   "outputs": [],
   "source": [
    "df=pd.DataFrame({'Name':names, 'Hobbies':hobbies,'Height':height})"
   ]
  },
  {
   "cell_type": "code",
   "execution_count": 8,
   "id": "b83a7a3b",
   "metadata": {},
   "outputs": [
    {
     "data": {
      "text/html": [
       "<div>\n",
       "<style scoped>\n",
       "    .dataframe tbody tr th:only-of-type {\n",
       "        vertical-align: middle;\n",
       "    }\n",
       "\n",
       "    .dataframe tbody tr th {\n",
       "        vertical-align: top;\n",
       "    }\n",
       "\n",
       "    .dataframe thead th {\n",
       "        text-align: right;\n",
       "    }\n",
       "</style>\n",
       "<table border=\"1\" class=\"dataframe\">\n",
       "  <thead>\n",
       "    <tr style=\"text-align: right;\">\n",
       "      <th></th>\n",
       "      <th>Name</th>\n",
       "      <th>Hobbies</th>\n",
       "      <th>Height</th>\n",
       "    </tr>\n",
       "  </thead>\n",
       "  <tbody>\n",
       "    <tr>\n",
       "      <th>0</th>\n",
       "      <td>Shahid</td>\n",
       "      <td>coding</td>\n",
       "      <td>175cm</td>\n",
       "    </tr>\n",
       "    <tr>\n",
       "      <th>1</th>\n",
       "      <td>Hussain</td>\n",
       "      <td>pc games</td>\n",
       "      <td>172cm</td>\n",
       "    </tr>\n",
       "    <tr>\n",
       "      <th>2</th>\n",
       "      <td>Zeerak</td>\n",
       "      <td>pc games</td>\n",
       "      <td>173cm</td>\n",
       "    </tr>\n",
       "  </tbody>\n",
       "</table>\n",
       "</div>"
      ],
      "text/plain": [
       "      Name   Hobbies Height\n",
       "0   Shahid    coding  175cm\n",
       "1  Hussain  pc games  172cm\n",
       "2   Zeerak  pc games  173cm"
      ]
     },
     "execution_count": 8,
     "metadata": {},
     "output_type": "execute_result"
    }
   ],
   "source": [
    "df"
   ]
  },
  {
   "cell_type": "code",
   "execution_count": 9,
   "id": "27f3a45e",
   "metadata": {},
   "outputs": [
    {
     "data": {
      "text/html": [
       "<div>\n",
       "<style scoped>\n",
       "    .dataframe tbody tr th:only-of-type {\n",
       "        vertical-align: middle;\n",
       "    }\n",
       "\n",
       "    .dataframe tbody tr th {\n",
       "        vertical-align: top;\n",
       "    }\n",
       "\n",
       "    .dataframe thead th {\n",
       "        text-align: right;\n",
       "    }\n",
       "</style>\n",
       "<table border=\"1\" class=\"dataframe\">\n",
       "  <thead>\n",
       "    <tr style=\"text-align: right;\">\n",
       "      <th></th>\n",
       "      <th>Name</th>\n",
       "      <th>Height</th>\n",
       "    </tr>\n",
       "    <tr>\n",
       "      <th>Hobbies</th>\n",
       "      <th></th>\n",
       "      <th></th>\n",
       "    </tr>\n",
       "  </thead>\n",
       "  <tbody>\n",
       "    <tr>\n",
       "      <th>coding</th>\n",
       "      <td>Shahid</td>\n",
       "      <td>175cm</td>\n",
       "    </tr>\n",
       "    <tr>\n",
       "      <th>pc games</th>\n",
       "      <td>Hussain</td>\n",
       "      <td>172cm</td>\n",
       "    </tr>\n",
       "    <tr>\n",
       "      <th>pc games</th>\n",
       "      <td>Zeerak</td>\n",
       "      <td>173cm</td>\n",
       "    </tr>\n",
       "  </tbody>\n",
       "</table>\n",
       "</div>"
      ],
      "text/plain": [
       "             Name Height\n",
       "Hobbies                 \n",
       "coding     Shahid  175cm\n",
       "pc games  Hussain  172cm\n",
       "pc games   Zeerak  173cm"
      ]
     },
     "execution_count": 9,
     "metadata": {},
     "output_type": "execute_result"
    }
   ],
   "source": [
    "df.set_index('Hobbies')"
   ]
  },
  {
   "cell_type": "code",
   "execution_count": 10,
   "id": "ed6a228a",
   "metadata": {},
   "outputs": [],
   "source": [
    "#when the data is arrange in row "
   ]
  },
  {
   "cell_type": "code",
   "execution_count": 11,
   "id": "62830d1a",
   "metadata": {},
   "outputs": [],
   "source": [
    "row1=['Shahid',\"Hussain\",'Zeerak']\n",
    "row2=['coding','pc games','pc games']\n",
    "row3=['175cm','172cm','173cm']"
   ]
  },
  {
   "cell_type": "code",
   "execution_count": 17,
   "id": "d809730f",
   "metadata": {},
   "outputs": [],
   "source": [
    "df1=pd.DataFrame(data=[row1,row2,row3],columns=['Names','Hobbies','Height'])"
   ]
  },
  {
   "cell_type": "code",
   "execution_count": 18,
   "id": "e49b2ee6",
   "metadata": {},
   "outputs": [
    {
     "data": {
      "text/html": [
       "<div>\n",
       "<style scoped>\n",
       "    .dataframe tbody tr th:only-of-type {\n",
       "        vertical-align: middle;\n",
       "    }\n",
       "\n",
       "    .dataframe tbody tr th {\n",
       "        vertical-align: top;\n",
       "    }\n",
       "\n",
       "    .dataframe thead th {\n",
       "        text-align: right;\n",
       "    }\n",
       "</style>\n",
       "<table border=\"1\" class=\"dataframe\">\n",
       "  <thead>\n",
       "    <tr style=\"text-align: right;\">\n",
       "      <th></th>\n",
       "      <th>Names</th>\n",
       "      <th>Hobbies</th>\n",
       "      <th>Height</th>\n",
       "    </tr>\n",
       "  </thead>\n",
       "  <tbody>\n",
       "    <tr>\n",
       "      <th>0</th>\n",
       "      <td>Shahid</td>\n",
       "      <td>Hussain</td>\n",
       "      <td>Zeerak</td>\n",
       "    </tr>\n",
       "    <tr>\n",
       "      <th>1</th>\n",
       "      <td>coding</td>\n",
       "      <td>pc games</td>\n",
       "      <td>pc games</td>\n",
       "    </tr>\n",
       "    <tr>\n",
       "      <th>2</th>\n",
       "      <td>175cm</td>\n",
       "      <td>172cm</td>\n",
       "      <td>173cm</td>\n",
       "    </tr>\n",
       "  </tbody>\n",
       "</table>\n",
       "</div>"
      ],
      "text/plain": [
       "    Names   Hobbies    Height\n",
       "0  Shahid   Hussain    Zeerak\n",
       "1  coding  pc games  pc games\n",
       "2   175cm     172cm     173cm"
      ]
     },
     "execution_count": 18,
     "metadata": {},
     "output_type": "execute_result"
    }
   ],
   "source": [
    "df1"
   ]
  },
  {
   "cell_type": "code",
   "execution_count": 19,
   "id": "b1720ef4",
   "metadata": {},
   "outputs": [
    {
     "data": {
      "text/html": [
       "<div>\n",
       "<style scoped>\n",
       "    .dataframe tbody tr th:only-of-type {\n",
       "        vertical-align: middle;\n",
       "    }\n",
       "\n",
       "    .dataframe tbody tr th {\n",
       "        vertical-align: top;\n",
       "    }\n",
       "\n",
       "    .dataframe thead th {\n",
       "        text-align: right;\n",
       "    }\n",
       "</style>\n",
       "<table border=\"1\" class=\"dataframe\">\n",
       "  <thead>\n",
       "    <tr style=\"text-align: right;\">\n",
       "      <th></th>\n",
       "      <th>Names</th>\n",
       "      <th>Height</th>\n",
       "    </tr>\n",
       "    <tr>\n",
       "      <th>Hobbies</th>\n",
       "      <th></th>\n",
       "      <th></th>\n",
       "    </tr>\n",
       "  </thead>\n",
       "  <tbody>\n",
       "    <tr>\n",
       "      <th>Hussain</th>\n",
       "      <td>Shahid</td>\n",
       "      <td>Zeerak</td>\n",
       "    </tr>\n",
       "    <tr>\n",
       "      <th>pc games</th>\n",
       "      <td>coding</td>\n",
       "      <td>pc games</td>\n",
       "    </tr>\n",
       "    <tr>\n",
       "      <th>172cm</th>\n",
       "      <td>175cm</td>\n",
       "      <td>173cm</td>\n",
       "    </tr>\n",
       "  </tbody>\n",
       "</table>\n",
       "</div>"
      ],
      "text/plain": [
       "           Names    Height\n",
       "Hobbies                   \n",
       "Hussain   Shahid    Zeerak\n",
       "pc games  coding  pc games\n",
       "172cm      175cm     173cm"
      ]
     },
     "execution_count": 19,
     "metadata": {},
     "output_type": "execute_result"
    }
   ],
   "source": [
    "df1.set_index(\"Hobbies\")"
   ]
  },
  {
   "cell_type": "code",
   "execution_count": 20,
   "id": "141252aa",
   "metadata": {},
   "outputs": [],
   "source": [
    "# how to create data frame from series... using TO_Frame method"
   ]
  },
  {
   "cell_type": "code",
   "execution_count": 27,
   "id": "6ec01e00",
   "metadata": {},
   "outputs": [],
   "source": [
    "df3=pd.Series(data=hobbies ,name=\"Hobbies\").to_frame()"
   ]
  },
  {
   "cell_type": "code",
   "execution_count": 28,
   "id": "253b938a",
   "metadata": {},
   "outputs": [
    {
     "data": {
      "text/html": [
       "<div>\n",
       "<style scoped>\n",
       "    .dataframe tbody tr th:only-of-type {\n",
       "        vertical-align: middle;\n",
       "    }\n",
       "\n",
       "    .dataframe tbody tr th {\n",
       "        vertical-align: top;\n",
       "    }\n",
       "\n",
       "    .dataframe thead th {\n",
       "        text-align: right;\n",
       "    }\n",
       "</style>\n",
       "<table border=\"1\" class=\"dataframe\">\n",
       "  <thead>\n",
       "    <tr style=\"text-align: right;\">\n",
       "      <th></th>\n",
       "      <th>Hobbies</th>\n",
       "    </tr>\n",
       "  </thead>\n",
       "  <tbody>\n",
       "    <tr>\n",
       "      <th>0</th>\n",
       "      <td>coding</td>\n",
       "    </tr>\n",
       "    <tr>\n",
       "      <th>1</th>\n",
       "      <td>pc games</td>\n",
       "    </tr>\n",
       "    <tr>\n",
       "      <th>2</th>\n",
       "      <td>pc games</td>\n",
       "    </tr>\n",
       "  </tbody>\n",
       "</table>\n",
       "</div>"
      ],
      "text/plain": [
       "    Hobbies\n",
       "0    coding\n",
       "1  pc games\n",
       "2  pc games"
      ]
     },
     "execution_count": 28,
     "metadata": {},
     "output_type": "execute_result"
    }
   ],
   "source": [
    "df3"
   ]
  },
  {
   "cell_type": "code",
   "execution_count": null,
   "id": "e63c9946",
   "metadata": {},
   "outputs": [],
   "source": []
  }
 ],
 "metadata": {
  "kernelspec": {
   "display_name": "Python 3 (ipykernel)",
   "language": "python",
   "name": "python3"
  },
  "language_info": {
   "codemirror_mode": {
    "name": "ipython",
    "version": 3
   },
   "file_extension": ".py",
   "mimetype": "text/x-python",
   "name": "python",
   "nbconvert_exporter": "python",
   "pygments_lexer": "ipython3",
   "version": "3.9.7"
  }
 },
 "nbformat": 4,
 "nbformat_minor": 5
}
