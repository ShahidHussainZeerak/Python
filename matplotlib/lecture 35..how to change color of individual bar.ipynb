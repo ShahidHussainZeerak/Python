{
 "cells": [
  {
   "cell_type": "code",
   "execution_count": 11,
   "id": "3ef8d7fc",
   "metadata": {},
   "outputs": [],
   "source": [
    "import matplotlib.pyplot as plt\n",
    "import numpy as np"
   ]
  },
  {
   "cell_type": "code",
   "execution_count": 12,
   "id": "daf49878",
   "metadata": {},
   "outputs": [
    {
     "data": {
      "image/png": "[encoded data removed]",
      "text/plain": [
       "<Figure size 432x288 with 1 Axes>"
      ]
     },
     "metadata": {
      "needs_background": "light"
     },
     "output_type": "display_data"
    }
   ],
   "source": [
    "x=[1,12,22,33,21,20]\n",
    "y=[1,11,21,31]\n",
    "n,bin1,patches=plt.hist(x,y,ec=\"red\",color=\"yellow\")\n",
    "patches[0].set_fc(\"red\")\n",
    "patches[1].set_fc(\"orange\")\n",
    "plt.xlabel(\"age\")\n",
    "plt.ylabel(\"count\")\n",
    "plt.xticks(y)\n",
    "plt.show()"
   ]
  },
  {
   "cell_type": "code",
   "execution_count": 10,
   "id": "f9fd522f",
   "metadata": {},
   "outputs": [],
   "source": [
    "# if the bar is more than 3 then we will use the below method."
   ]
  },
  {
   "cell_type": "code",
   "execution_count": 13,
   "id": "63580eb1",
   "metadata": {},
   "outputs": [],
   "source": [
    "x=np.random.randn(100)"
   ]
  },
  {
   "cell_type": "code",
   "execution_count": 16,
   "id": "e87413c4",
   "metadata": {},
   "outputs": [
    {
     "data": {
      "image/png": "[encoded data removed]",
      "text/plain": [
       "<Figure size 432x288 with 1 Axes>"
      ]
     },
     "metadata": {
      "needs_background": "light"
     },
     "output_type": "display_data"
    }
   ],
   "source": [
    "n,m,patches=plt.hist(x,bins=10)\n",
    "color=[\"blue\",\"green\",\"black\",\"green\",\"red\",\"orange\",\"gray\",\"red\",\"black\",\"green\"]\n",
    "for i in range(len(n)):\n",
    "    c=color[i]\n",
    "    patches[i].set_fc(c)\n",
    "plt.xlabel(\"age\")\n",
    "plt.ylabel(\"people count\")\n",
    "plt.title(\"age graph\")\n",
    "plt.show()"
   ]
  },
  {
   "cell_type": "code",
   "execution_count": null,
   "id": "c35b166c",
   "metadata": {},
   "outputs": [],
   "source": []
  }
 ],
 "metadata": {
  "kernelspec": {
   "display_name": "Python 3 (ipykernel)",
   "language": "python",
   "name": "python3"
  },
  "language_info": {
   "codemirror_mode": {
    "name": "ipython",
    "version": 3
   },
   "file_extension": ".py",
   "mimetype": "text/x-python",
   "name": "python",
   "nbconvert_exporter": "python",
   "pygments_lexer": "ipython3",
   "version": "3.9.7"
  }
 },
 "nbformat": 4,
 "nbformat_minor": 5
}
