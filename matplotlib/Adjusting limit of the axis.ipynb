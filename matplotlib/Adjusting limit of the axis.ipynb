{
 "cells": [
  {
   "cell_type": "code",
   "execution_count": 1,
   "id": "bbbb548e",
   "metadata": {},
   "outputs": [],
   "source": [
    "import matplotlib.pyplot as plt"
   ]
  },
  {
   "cell_type": "code",
   "execution_count": 16,
   "id": "ac1cccd1",
   "metadata": {},
   "outputs": [
    {
     "data": {
      "image/png": "[encoded data removed]",
      "text/plain": [
       "<Figure size 432x288 with 1 Axes>"
      ]
     },
     "metadata": {
      "needs_background": "light"
     },
     "output_type": "display_data"
    }
   ],
   "source": [
    "plt.plot([10,20,30,40],[1,2,3,4])\n",
    "plt.plot([15,25,30,45],[1,2,3,4])\n",
    "plt.xlabel(\"x-label\",color=\"red\")\n",
    "plt.ylabel(\"y-label\" ,color=\"green\")\n",
    "#left,right=plt.xlim()\n",
    "#plt.xlim((2,3))\n",
    "plt.xlim(left=1,right=3)\n",
    "plt.title(\"First plot\")\n",
    "plt.show()"
   ]
  },
  {
   "cell_type": "code",
   "execution_count": 17,
   "id": "ca47ce77",
   "metadata": {},
   "outputs": [],
   "source": [
    "# ylim is thesame like xlim.but in ylim we used top and bottom keywords."
   ]
  },
  {
   "cell_type": "code",
   "execution_count": null,
   "id": "23558a26",
   "metadata": {},
   "outputs": [],
   "source": []
  }
 ],
 "metadata": {
  "kernelspec": {
   "display_name": "Python 3 (ipykernel)",
   "language": "python",
   "name": "python3"
  },
  "language_info": {
   "codemirror_mode": {
    "name": "ipython",
    "version": 3
   },
   "file_extension": ".py",
   "mimetype": "text/x-python",
   "name": "python",
   "nbconvert_exporter": "python",
   "pygments_lexer": "ipython3",
   "version": "3.9.7"
  }
 },
 "nbformat": 4,
 "nbformat_minor": 5
}
