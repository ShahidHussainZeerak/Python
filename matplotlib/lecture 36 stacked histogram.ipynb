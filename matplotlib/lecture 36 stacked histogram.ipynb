{
 "cells": [
  {
   "cell_type": "code",
   "execution_count": 1,
   "id": "79c4d706",
   "metadata": {},
   "outputs": [],
   "source": [
    "import matplotlib.pyplot as plt\n",
    "import numpy as np"
   ]
  },
  {
   "cell_type": "code",
   "execution_count": 2,
   "id": "1777b551",
   "metadata": {},
   "outputs": [
    {
     "data": {
      "image/png": "[encoded data removed]",
      "text/plain": [
       "<Figure size 432x288 with 1 Axes>"
      ]
     },
     "metadata": {
      "needs_background": "light"
     },
     "output_type": "display_data"
    }
   ],
   "source": [
    "x=np.random.randn(100,3)\n",
    "plt.hist(x,stacked=True)\n",
    "plt.xlabel(\"age\")\n",
    "plt.ylabel(\"people count\")\n",
    "plt.title(\"population count\")\n",
    "plt.show()\n"
   ]
  },
  {
   "cell_type": "code",
   "execution_count": 3,
   "id": "45887304",
   "metadata": {},
   "outputs": [],
   "source": [
    "# example of 3 sets of data."
   ]
  },
  {
   "cell_type": "code",
   "execution_count": 15,
   "id": "721a2f48",
   "metadata": {},
   "outputs": [
    {
     "ename": "SyntaxError",
     "evalue": "invalid syntax (Temp/ipykernel_5860/2076281955.py, line 4)",
     "output_type": "error",
     "traceback": [
      "\u001b[1;36m  File \u001b[1;32m\"C:\\Users\\ZEERAK~1\\AppData\\Local\\Temp/ipykernel_5860/2076281955.py\"\u001b[1;36m, line \u001b[1;32m4\u001b[0m\n\u001b[1;33m    plt.hist[[\"x\",\"y\",\"z\"],\"auto\",ec=\"k\"]]\u001b[0m\n\u001b[1;37m                                    ^\u001b[0m\n\u001b[1;31mSyntaxError\u001b[0m\u001b[1;31m:\u001b[0m invalid syntax\n"
     ]
    }
   ],
   "source": [
    "x=np.random.randn(100)\n",
    "y=np.sin(x)\n",
    "z=np.cos(x)\n",
    "plt.hist[[\"x\",\"y\",\"z\"],\"auto\",ec=\"k\"]\n",
    "plt.xlabel(\"age\")\n",
    "plt.ylabel(\"people count\")\n",
    "plt.title(\"population count\")\n",
    "plt.show()"
   ]
  },
  {
   "cell_type": "code",
   "execution_count": null,
   "id": "a6d263eb",
   "metadata": {},
   "outputs": [],
   "source": []
  }
 ],
 "metadata": {
  "kernelspec": {
   "display_name": "Python 3 (ipykernel)",
   "language": "python",
   "name": "python3"
  },
  "language_info": {
   "codemirror_mode": {
    "name": "ipython",
    "version": 3
   },
   "file_extension": ".py",
   "mimetype": "text/x-python",
   "name": "python",
   "nbconvert_exporter": "python",
   "pygments_lexer": "ipython3",
   "version": "3.9.7"
  }
 },
 "nbformat": 4,
 "nbformat_minor": 5
}
